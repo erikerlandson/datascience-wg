{
 "cells": [
  {
   "cell_type": "code",
   "execution_count": 1,
   "id": "32962d52-12dc-48e0-b24e-c38ca4d18fb0",
   "metadata": {
    "tags": []
   },
   "outputs": [
    {
     "name": "stdout",
     "output_type": "stream",
     "text": [
      "Collecting transformers\n",
      "  Downloading transformers-4.44.0-py3-none-any.whl (9.5 MB)\n",
      "\u001b[2K     \u001b[90m━━━━━━━━━━━━━━━━━━━━━━━━━━━━━━━━━━━━━━━━\u001b[0m \u001b[32m9.5/9.5 MB\u001b[0m \u001b[31m10.0 MB/s\u001b[0m eta \u001b[36m0:00:00\u001b[0m00:01\u001b[0m0:01\u001b[0mm\n",
      "\u001b[?25hCollecting accelerate\n",
      "  Downloading accelerate-0.33.0-py3-none-any.whl (315 kB)\n",
      "\u001b[2K     \u001b[90m━━━━━━━━━━━━━━━━━━━━━━━━━━━━━━━━━━━━━━━\u001b[0m \u001b[32m315.1/315.1 kB\u001b[0m \u001b[31m8.7 MB/s\u001b[0m eta \u001b[36m0:00:00\u001b[0ma \u001b[36m0:00:01\u001b[0m\n",
      "\u001b[?25hRequirement already satisfied: pyyaml>=5.1 in /opt/app-root/lib/python3.9/site-packages (from transformers) (6.0.1)\n",
      "Requirement already satisfied: packaging>=20.0 in /opt/app-root/lib/python3.9/site-packages (from transformers) (24.0)\n",
      "Requirement already satisfied: filelock in /opt/app-root/lib/python3.9/site-packages (from transformers) (3.14.0)\n",
      "Requirement already satisfied: numpy>=1.17 in /opt/app-root/lib/python3.9/site-packages (from transformers) (1.26.4)\n",
      "Collecting safetensors>=0.4.1\n",
      "  Downloading safetensors-0.4.4-cp39-cp39-manylinux_2_17_x86_64.manylinux2014_x86_64.whl (436 kB)\n",
      "\u001b[2K     \u001b[90m━━━━━━━━━━━━━━━━━━━━━━━━━━━━━━━━━━━━━━━\u001b[0m \u001b[32m436.3/436.3 kB\u001b[0m \u001b[31m8.4 MB/s\u001b[0m eta \u001b[36m0:00:00\u001b[0ma \u001b[36m0:00:01\u001b[0m\n",
      "\u001b[?25hRequirement already satisfied: requests in /opt/app-root/lib/python3.9/site-packages (from transformers) (2.32.2)\n",
      "Collecting tokenizers<0.20,>=0.19\n",
      "  Downloading tokenizers-0.19.1-cp39-cp39-manylinux_2_17_x86_64.manylinux2014_x86_64.whl (3.6 MB)\n",
      "\u001b[2K     \u001b[90m━━━━━━━━━━━━━━━━━━━━━━━━━━━━━━━━━━━━━━━━\u001b[0m \u001b[32m3.6/3.6 MB\u001b[0m \u001b[31m4.1 MB/s\u001b[0m eta \u001b[36m0:00:00\u001b[0m00:01\u001b[0m00:01\u001b[0m\n",
      "\u001b[?25hRequirement already satisfied: tqdm>=4.27 in /opt/app-root/lib/python3.9/site-packages (from transformers) (4.66.4)\n",
      "Collecting regex!=2019.12.17\n",
      "  Downloading regex-2024.7.24-cp39-cp39-manylinux_2_17_x86_64.manylinux2014_x86_64.whl (775 kB)\n",
      "\u001b[2K     \u001b[90m━━━━━━━━━━━━━━━━━━━━━━━━━━━━━━━━━━━━━━━\u001b[0m \u001b[32m775.9/775.9 kB\u001b[0m \u001b[31m1.7 MB/s\u001b[0m eta \u001b[36m0:00:00\u001b[0ma \u001b[36m0:00:01\u001b[0m\n",
      "\u001b[?25hCollecting huggingface-hub<1.0,>=0.23.2\n",
      "  Downloading huggingface_hub-0.24.5-py3-none-any.whl (417 kB)\n",
      "\u001b[2K     \u001b[90m━━━━━━━━━━━━━━━━━━━━━━━━━━━━━━━━━━━━━━━\u001b[0m \u001b[32m417.5/417.5 kB\u001b[0m \u001b[31m2.5 MB/s\u001b[0m eta \u001b[36m0:00:00\u001b[0ma \u001b[36m0:00:01\u001b[0m\n",
      "\u001b[?25hRequirement already satisfied: psutil in /opt/app-root/lib/python3.9/site-packages (from accelerate) (5.9.8)\n",
      "Requirement already satisfied: torch>=1.10.0 in /opt/app-root/lib/python3.9/site-packages (from accelerate) (2.2.2+cu121)\n",
      "Requirement already satisfied: typing-extensions>=3.7.4.3 in /opt/app-root/lib/python3.9/site-packages (from huggingface-hub<1.0,>=0.23.2->transformers) (4.11.0)\n",
      "Requirement already satisfied: fsspec>=2023.5.0 in /opt/app-root/lib/python3.9/site-packages (from huggingface-hub<1.0,>=0.23.2->transformers) (2024.5.0)\n",
      "Requirement already satisfied: nvidia-cuda-runtime-cu12==12.1.105 in /opt/app-root/lib/python3.9/site-packages (from torch>=1.10.0->accelerate) (12.1.105)\n",
      "Requirement already satisfied: nvidia-cuda-nvrtc-cu12==12.1.105 in /opt/app-root/lib/python3.9/site-packages (from torch>=1.10.0->accelerate) (12.1.105)\n",
      "Requirement already satisfied: nvidia-cufft-cu12==11.0.2.54 in /opt/app-root/lib/python3.9/site-packages (from torch>=1.10.0->accelerate) (11.0.2.54)\n",
      "Requirement already satisfied: nvidia-cusolver-cu12==11.4.5.107 in /opt/app-root/lib/python3.9/site-packages (from torch>=1.10.0->accelerate) (11.4.5.107)\n",
      "Requirement already satisfied: nvidia-curand-cu12==10.3.2.106 in /opt/app-root/lib/python3.9/site-packages (from torch>=1.10.0->accelerate) (10.3.2.106)\n",
      "Requirement already satisfied: nvidia-nvtx-cu12==12.1.105 in /opt/app-root/lib/python3.9/site-packages (from torch>=1.10.0->accelerate) (12.1.105)\n",
      "Requirement already satisfied: networkx in /opt/app-root/lib/python3.9/site-packages (from torch>=1.10.0->accelerate) (3.2.1)\n",
      "Requirement already satisfied: nvidia-cublas-cu12==12.1.3.1 in /opt/app-root/lib/python3.9/site-packages (from torch>=1.10.0->accelerate) (12.1.3.1)\n",
      "Requirement already satisfied: nvidia-cudnn-cu12==8.9.2.26 in /opt/app-root/lib/python3.9/site-packages (from torch>=1.10.0->accelerate) (8.9.2.26)\n",
      "Requirement already satisfied: nvidia-nccl-cu12==2.19.3 in /opt/app-root/lib/python3.9/site-packages (from torch>=1.10.0->accelerate) (2.19.3)\n",
      "Requirement already satisfied: nvidia-cuda-cupti-cu12==12.1.105 in /opt/app-root/lib/python3.9/site-packages (from torch>=1.10.0->accelerate) (12.1.105)\n",
      "Requirement already satisfied: sympy in /opt/app-root/lib/python3.9/site-packages (from torch>=1.10.0->accelerate) (1.12)\n",
      "Requirement already satisfied: triton==2.2.0 in /opt/app-root/lib/python3.9/site-packages (from torch>=1.10.0->accelerate) (2.2.0)\n",
      "Requirement already satisfied: nvidia-cusparse-cu12==12.1.0.106 in /opt/app-root/lib/python3.9/site-packages (from torch>=1.10.0->accelerate) (12.1.0.106)\n",
      "Requirement already satisfied: jinja2 in /opt/app-root/lib/python3.9/site-packages (from torch>=1.10.0->accelerate) (3.1.4)\n",
      "Requirement already satisfied: nvidia-nvjitlink-cu12 in /opt/app-root/lib/python3.9/site-packages (from nvidia-cusolver-cu12==11.4.5.107->torch>=1.10.0->accelerate) (12.5.40)\n",
      "Requirement already satisfied: urllib3<3,>=1.21.1 in /opt/app-root/lib/python3.9/site-packages (from requests->transformers) (1.26.18)\n",
      "Requirement already satisfied: certifi>=2017.4.17 in /opt/app-root/lib/python3.9/site-packages (from requests->transformers) (2024.2.2)\n",
      "Requirement already satisfied: charset-normalizer<4,>=2 in /opt/app-root/lib/python3.9/site-packages (from requests->transformers) (3.3.2)\n",
      "Requirement already satisfied: idna<4,>=2.5 in /opt/app-root/lib/python3.9/site-packages (from requests->transformers) (3.7)\n",
      "Requirement already satisfied: MarkupSafe>=2.0 in /opt/app-root/lib/python3.9/site-packages (from jinja2->torch>=1.10.0->accelerate) (2.1.5)\n",
      "Requirement already satisfied: mpmath>=0.19 in /opt/app-root/lib/python3.9/site-packages (from sympy->torch>=1.10.0->accelerate) (1.3.0)\n",
      "Installing collected packages: safetensors, regex, huggingface-hub, tokenizers, transformers, accelerate\n",
      "Successfully installed accelerate-0.33.0 huggingface-hub-0.24.5 regex-2024.7.24 safetensors-0.4.4 tokenizers-0.19.1 transformers-4.44.0\n",
      "\n",
      "\u001b[1m[\u001b[0m\u001b[34;49mnotice\u001b[0m\u001b[1;39;49m]\u001b[0m\u001b[39;49m A new release of pip available: \u001b[0m\u001b[31;49m22.2.2\u001b[0m\u001b[39;49m -> \u001b[0m\u001b[32;49m24.2\u001b[0m\n",
      "\u001b[1m[\u001b[0m\u001b[34;49mnotice\u001b[0m\u001b[1;39;49m]\u001b[0m\u001b[39;49m To update, run: \u001b[0m\u001b[32;49mpip install --upgrade pip\u001b[0m\n",
      "Note: you may need to restart the kernel to use updated packages.\n"
     ]
    }
   ],
   "source": [
    "%pip install transformers accelerate"
   ]
  },
  {
   "cell_type": "code",
   "execution_count": null,
   "id": "de9a4d7d-3f7f-41a4-8358-e2a0a1123ded",
   "metadata": {},
   "outputs": [],
   "source": [
    "import torch, time\n",
    "import pandas as pd\n",
    "import matplotlib.pyplot as plt\n",
    "import numpy as np\n",
    "from sklearn import manifold\n",
    "from transformers import AutoModelForCausalLM, AutoTokenizer"
   ]
  },
  {
   "cell_type": "code",
   "execution_count": null,
   "id": "b1132d54-47a6-4476-a50f-d1aaf942789b",
   "metadata": {
    "tags": []
   },
   "outputs": [],
   "source": [
    "model_path = \"ibm-granite/granite-3b-code-base\"\n",
    "device = \"cpu\""
   ]
  },
  {
   "cell_type": "code",
   "execution_count": null,
   "id": "2f0422a0-8f96-4347-8015-05b59833cf73",
   "metadata": {
    "tags": []
   },
   "outputs": [],
   "source": [
    "tokenizer = AutoTokenizer.from_pretrained(model_path)\n",
    "model = AutoModelForCausalLM.from_pretrained(model_path, device_map=device)\n",
    "model.eval()"
   ]
  },
  {
   "cell_type": "markdown",
   "id": "4904936a-0159-4534-82cb-bb71ec4fb80b",
   "metadata": {},
   "source": [
    "what about this variation?\n",
    "\n",
    "https://stackoverflow.com/questions/76051807/automodelforcausallm-for-extracting-text-embeddings"
   ]
  },
  {
   "cell_type": "code",
   "execution_count": null,
   "id": "28885553-8a34-486f-991b-0c5fb811a7a1",
   "metadata": {},
   "outputs": [],
   "source": [
    "from pathlib import Path\n",
    "def model_embeddings(prompts, model, tokenizer, cache=None):\n",
    "    cfname = str(cache)\n",
    "    if cache is not None:\n",
    "        if Path(cfname).is_file():\n",
    "            print(f\"loading embeddings from cached file {cfname}\")\n",
    "            return torch.load(cfname)\n",
    "        else:\n",
    "            print(f\"file {cfname} does not exist, computing embeddings\")\n",
    "    embeddings = []\n",
    "    for p in prompts:\n",
    "        input_text = str(p)\n",
    "\n",
    "        input_tokens = tokenizer(input_text, return_tensors=\"pt\")\n",
    "        for i in input_tokens:\n",
    "            input_tokens[i] = input_tokens[i].to(device)\n",
    "\n",
    "        #print(f\"{input_tokens['input_ids'].shape}\")\n",
    "\n",
    "        o = model.generate(**input_tokens,\n",
    "                           max_new_tokens=1,\n",
    "                           return_dict_in_generate=True,\n",
    "                           output_scores=False,\n",
    "                           output_hidden_states=True)\n",
    "\n",
    "        # last hidden layer, for each of the input tokens\n",
    "        lh = o.hidden_states[0][-1][0]\n",
    "        # normalize each token embedding to unit length\n",
    "        lh = torch.nn.functional.normalize(lh, dim=1)\n",
    "        # number of input tokens\n",
    "        nt = len(lh)\n",
    "        # mean of the embedding vectors over the input tokens\n",
    "        # some community recommend weighted average here\n",
    "        lhavg = torch.sum(lh, 0) / nt\n",
    "        #print(f\"last: {lhavg.shape} {lhavg}\")\n",
    "        embeddings.append(lhavg.numpy())\n",
    "    # return the list of embeddings as a tensor\n",
    "    embeddings = torch.tensor(np.array(embeddings))\n",
    "    if cache is not None:\n",
    "        print(f\"writing embeddings to cache file {cfname}\")\n",
    "        torch.save(embeddings, cfname)\n",
    "    return embeddings"
   ]
  },
  {
   "cell_type": "code",
   "execution_count": null,
   "id": "50192059-1732-4158-ac8c-ca6be6599acd",
   "metadata": {
    "tags": []
   },
   "outputs": [],
   "source": [
    "def cosine_dissimilarities(vecs, eps = 1e-4):\n",
    "    mags = torch.norm(vecs, dim=1)\n",
    "    # eps is slop for fp jitter, to keep values positive\n",
    "    return (1 + eps) - torch.mm(vecs, vecs.T) / torch.outer(mags, mags)"
   ]
  },
  {
   "cell_type": "code",
   "execution_count": null,
   "id": "c2bda580-438d-4bd8-8448-852787e87ea0",
   "metadata": {
    "tags": []
   },
   "outputs": [],
   "source": [
    "from sklearn.utils import shuffle\n",
    "def sample_marginals(vecs, nsamples = 10):\n",
    "    vt = vecs.T\n",
    "    vts = [shuffle(x, n_samples=nsamples) for x in vt]\n",
    "    return torch.tensor(np.array(vts)).T"
   ]
  },
  {
   "cell_type": "code",
   "execution_count": null,
   "id": "58d7e064-836c-4972-a700-3eed3af6839d",
   "metadata": {
    "tags": []
   },
   "outputs": [],
   "source": [
    "benchname = \"mmlu-all-dev\"\n",
    "benchmark = pd.read_parquet(f\"/opt/app-root/src/{benchname}.parquet\")"
   ]
  },
  {
   "cell_type": "code",
   "execution_count": null,
   "id": "925d7493-6420-4ce9-86c7-22ef1cfbd9be",
   "metadata": {
    "tags": []
   },
   "outputs": [],
   "source": [
    "embeddings = model_embeddings(benchmark[\"question\"], model, tokenizer, cache = f\"/opt/app-root/src/{benchname}-embeddings.pt\")"
   ]
  },
  {
   "cell_type": "code",
   "execution_count": null,
   "id": "0b5fa082-88db-4133-bc0a-ac8c3f598447",
   "metadata": {},
   "outputs": [],
   "source": [
    "insurance = [\n",
    "    \"when does my policy expire?\",\n",
    "    \"does my home insurance cover flooding?\",\n",
    "    \"where can I find my premimum for auto insurance?\",\n",
    "    \"how do I add a car to my auto policy?\",\n",
    "    \"can I bundle my auto and home insurance policies?\",\n",
    "    \"what is the deductable on my umbrella policy?\",\n",
    "    \"how can I find the contact info for my agent?\",\n",
    "]"
   ]
  },
  {
   "cell_type": "code",
   "execution_count": null,
   "id": "99e015bd-c500-4e10-90fa-f6db41e25759",
   "metadata": {
    "tags": []
   },
   "outputs": [],
   "source": [
    "embeddings_ins = model_embeddings(insurance, model, tokenizer, cache = \"/opt/app-root/src/insurance-embeddings.pt\")"
   ]
  },
  {
   "cell_type": "code",
   "execution_count": null,
   "id": "b1d00f26-b3c7-4e1c-aeff-3f81e1c62cee",
   "metadata": {},
   "outputs": [],
   "source": [
    "import matplotlib.patches as mpatches\n",
    "\n",
    "rnd = sample_marginals(embeddings, nsamples=280)\n",
    "\n",
    "all = torch.cat((rnd, embeddings, embeddings_ins))\n",
    "colors = (['#0f0f0f0f'] * len(rnd)) + (['g'] * len(embeddings)) + (['r'] * len(embeddings_ins)) \n",
    "\n",
    "patches = [\n",
    "    mpatches.Patch(color='g', label=\"mmlu\"),\n",
    "    mpatches.Patch(color='r', label=\"insurance\"),\n",
    "    mpatches.Patch(color='#0f0f0f0f', label=\"synthetic\"),\n",
    "]\n",
    "\n",
    "xform = manifold.TSNE(n_components = 2, n_jobs=1, perplexity=30, metric='cosine', angle=0.3)\n",
    "e2d = xform.fit(all).embedding_\n",
    "\n",
    "x, y = e2d.transpose()\n",
    "fig, ax = plt.subplots()\n",
    "ax.scatter(x,y, c = colors, marker=\".\")\n",
    "ax.legend(handles=patches)"
   ]
  },
  {
   "cell_type": "code",
   "execution_count": null,
   "id": "352f56a2-b42c-457f-8b8a-0f5d33c0bfa4",
   "metadata": {
    "tags": []
   },
   "outputs": [],
   "source": []
  },
  {
   "cell_type": "code",
   "execution_count": null,
   "id": "4f968695-e624-44c4-87ef-7884de6b1525",
   "metadata": {},
   "outputs": [],
   "source": []
  }
 ],
 "metadata": {
  "kernelspec": {
   "display_name": "Python 3.9",
   "language": "python",
   "name": "python3"
  },
  "language_info": {
   "codemirror_mode": {
    "name": "ipython",
    "version": 3
   },
   "file_extension": ".py",
   "mimetype": "text/x-python",
   "name": "python",
   "nbconvert_exporter": "python",
   "pygments_lexer": "ipython3",
   "version": "3.9.18"
  }
 },
 "nbformat": 4,
 "nbformat_minor": 5
}
